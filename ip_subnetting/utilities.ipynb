{
 "cells": [
  {
   "cell_type": "code",
   "execution_count": 1,
   "metadata": {},
   "outputs": [],
   "source": [
    "from more_itertools import grouper\n",
    "import pandas as pd\n",
    "import numpy as np\n",
    "from matplotlib import pyplot as plt\n",
    "import seaborn as sns"
   ]
  },
  {
   "cell_type": "code",
   "execution_count": 2,
   "metadata": {},
   "outputs": [],
   "source": [
    "def print_mask(rank):\n",
    "    rank = int(rank)\n",
    "    mask_bin = np.array(custom_grouper(rank * '1' + (32 - rank) * '0'))\n",
    "    mask_dec = b2d_converter(mask_bin)\n",
    "    print(np.concatenate((mask_dec, mask_bin), axis=0))\n",
    "\n",
    "    \n",
    "def print_ip(ip):\n",
    "    network_dec = np.array([int(octet) for octet in ip.split('.')])\n",
    "    network_bin = np.array([format(octet, '#010b')[2:] for octet in network_dec])\n",
    "    print(np.concatenate((network_dec, network_bin), axis=0))\n",
    "    \n",
    "    \n",
    "def b2d_converter(address_bin):\n",
    "    return np.array([int(octet, 2) for octet in address_bin]) \n",
    "\n",
    "\n",
    "def custom_grouper(address_bin):\n",
    "    return np.array([''.join(i) for i in grouper(address_bin, 8)])"
   ]
  },
  {
   "cell_type": "code",
   "execution_count": 7,
   "metadata": {},
   "outputs": [
    {
     "name": "stdout",
     "output_type": "stream",
     "text": [
      "['255' '255' '255' '192' '11111111' '11111111' '11111111' '11000000']\n"
     ]
    }
   ],
   "source": [
    "print_mask(26)"
   ]
  },
  {
   "cell_type": "code",
   "execution_count": null,
   "metadata": {},
   "outputs": [],
   "source": []
  }
 ],
 "metadata": {
  "kernelspec": {
   "display_name": "Python 3",
   "language": "python",
   "name": "python3"
  },
  "language_info": {
   "codemirror_mode": {
    "name": "ipython",
    "version": 3
   },
   "file_extension": ".py",
   "mimetype": "text/x-python",
   "name": "python",
   "nbconvert_exporter": "python",
   "pygments_lexer": "ipython3",
   "version": "3.7.4"
  }
 },
 "nbformat": 4,
 "nbformat_minor": 2
}
